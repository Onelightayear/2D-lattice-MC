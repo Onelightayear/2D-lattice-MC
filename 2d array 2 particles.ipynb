{
 "cells": [
  {
   "cell_type": "code",
   "execution_count": 97,
   "metadata": {},
   "outputs": [],
   "source": [
    "import random as rnd\n",
    "import matplotlib.pyplot as plt\n",
    "from math import exp as exp\n",
    "from math import log as log\n",
    "from math import sqrt as sqrt\n",
    "import numpy as np\n",
    "import pandas as pd"
   ]
  },
  {
   "cell_type": "code",
   "execution_count": 98,
   "metadata": {},
   "outputs": [],
   "source": [
    "#calculate the energy of 2 particles on a lattice. It can be -5 if the distance is 1, -3.5 if the distance is sqrt(2)\n",
    "# and 0 if the distance is > sqrt(2)\n",
    "def Energy(coord_1, coord_2):\n",
    "    if sqrt((coord_1[0]-coord_2[0])**2+(coord_1[1]-coord_2[1])**2) == 1.0:\n",
    "        E = -5\n",
    "    elif sqrt((coord_1[0]-coord_2[0])**2+(coord_1[1]-coord_2[1])**2) == sqrt(2):\n",
    "        E = -3.5\n",
    "    else:\n",
    "        E = 0\n",
    "    return E\n"
   ]
  },
  {
   "cell_type": "code",
   "execution_count": 99,
   "metadata": {},
   "outputs": [],
   "source": [
    "class Particles():\n",
    "    def __init__(self):\n",
    "        #generate starting coordinates\n",
    "        self.start_pos_1 = np.random.randint(low = 0, high = 10, size = 2)\n",
    "        self.start_pos_2 = np.random.randint(low = 0, high = 10, size = 2)\n",
    "        #cheking self-interference and hoping it won't generate the same 2 coords twice in a row\n",
    "        if (self.start_pos_2 == self.start_pos_1).all():\n",
    "            self.start_pos_2 = np.random.randint(low = 0, high = 10, size = 2)\n",
    "        self.start_E = Energy(self.start_pos_1, self.start_pos_2)\n",
    "        #saving the treks to follow them later on\n",
    "        self.coordinate_trek_1 = []\n",
    "        self.coordinate_trek_2 = []\n",
    "        self.Energy_trek = []\n",
    "        self.Temp = float(input('Enter the temperature'))\n",
    "\n",
    "    def update(self):\n",
    "        old_pos_1 = self.start_pos_1\n",
    "        old_pos_2 = self.start_pos_2\n",
    "        counter = 0\n",
    "        old_E = self.start_E\n",
    "        # a somewhat working Metropolis-Hastings algorithm\n",
    "        # randomly pick a particle \n",
    "        # randomly assign it to a new lattice vertex\n",
    "        # generate a random number for comparison, then compare with the energy factor k = exp((E1-E2)/T)\n",
    "        # compare the former and the latter, if u <= k then accept the new state, otherwise remain in the old state\n",
    "        while (counter < 10000):\n",
    "            particle_choice = rnd.randint(1,2)\n",
    "            if particle_choice == 1:\n",
    "                new_pos_1 = np.random.randint(low = 0, high = 10, size = 2)\n",
    "                if (new_pos_1 == old_pos_2).all():\n",
    "                    new_pos_1 = np.random.randint(low = 0, high = 10, size = 2)\n",
    "                new_E = Energy(new_pos_1, old_pos_2)\n",
    "                k = exp((old_E - new_E)/self.Temp)\n",
    "                u = rnd.uniform(0,1)\n",
    "                if u <= k:\n",
    "                    old_E = new_E\n",
    "                    old_pos_1 = new_pos_1\n",
    "                    print(old_pos_1, old_pos_2)\n",
    "                    self.Energy_trek.append(old_E)\n",
    "                    self.coordinate_trek_1.append(old_pos_1)\n",
    "                    self.coordinate_trek_2.append(old_pos_2)\n",
    "                else:\n",
    "                    print(old_pos_1, old_pos_2)\n",
    "                    self.Energy_trek.append(old_E)\n",
    "                    self.coordinate_trek_1.append(old_pos_1)\n",
    "                    self.coordinate_trek_2.append(old_pos_2)\n",
    "\n",
    "            elif particle_choice == 2:\n",
    "                new_pos_2 = np.random.randint(low = 0, high = 10, size = 2)\n",
    "                if (new_pos_2 == old_pos_1).all():\n",
    "                    new_pos_2 = np.random.randint(low = 0, high = 10, size = 2)\n",
    "                new_E = Energy(new_pos_2, old_pos_1)\n",
    "                k = exp((old_E-new_E)/self.Temp)\n",
    "                u = rnd.uniform(0,1)\n",
    "                if u <= k:\n",
    "                    old_E = new_E\n",
    "                    old_pos_2 = new_pos_2\n",
    "                    print(old_pos_1, old_pos_2)\n",
    "                    self.Energy_trek.append(old_E)\n",
    "                    self.coordinate_trek_1.append(old_pos_1)\n",
    "                    self.coordinate_trek_2.append(old_pos_2)\n",
    "                else:\n",
    "                    print(old_pos_1, old_pos_2)\n",
    "                    self.Energy_trek.append(old_E)\n",
    "                    self.coordinate_trek_1.append(old_pos_1)\n",
    "                    self.coordinate_trek_2.append(old_pos_2)\n",
    "            counter +=1\n",
    "\n"
   ]
  },
  {
   "cell_type": "code",
   "execution_count": null,
   "metadata": {},
   "outputs": [],
   "source": [
    "test = Particles()\n",
    "print(test.start_pos_1, test.start_pos_2)\n",
    "test.update()\n"
   ]
  },
  {
   "cell_type": "code",
   "execution_count": 141,
   "metadata": {},
   "outputs": [],
   "source": [
    "#calculate distance for cordinate trek d = sqrt((x1-x2)^2+(y1-y2)^2)\n",
    "def distance_calculator(arr_1, arr_2):\n",
    "    distance_arr = []\n",
    "    if len(arr_1)!=len(arr_2):\n",
    "        print('Error, different path lengths')\n",
    "    else:\n",
    "        for i in range(len(arr_1)):\n",
    "            distance_arr.append(sqrt((arr_1[i][0]-arr_2[i][0])**2+(arr_1[i][1]-arr_2[i][1])**2))\n",
    "    return distance_arr\n"
   ]
  },
  {
   "cell_type": "code",
   "execution_count": 149,
   "metadata": {},
   "outputs": [
    {
     "name": "stdout",
     "output_type": "stream",
     "text": [
      "Average energy =  -0.426732417309685\n",
      "Average distance =  5.082158393341452\n",
      "Ensemble entropy =  33.266522068522434\n"
     ]
    }
   ],
   "source": [
    "def Average_value(A_arr, E_arr, T):\n",
    "    E_arr = E_arr[50:]\n",
    "    A_arr = A_arr[50::]\n",
    "    weights = [exp(E/T) for E in E_arr]\n",
    "    weights_sum = sum(weights)\n",
    "    A_avg = 0\n",
    "    for i in range(len(A_arr)):\n",
    "        A_avg += A_arr[i]*weights[i]\n",
    "    A_avg = A_avg/weights_sum\n",
    "    return A_avg\n",
    "    \n",
    "def Entropy(E_arr, T):\n",
    "    E_arr = E_arr[50:]\n",
    "    weights = [exp(E/T) for E in E_arr]\n",
    "    S = 0\n",
    "    for i in weights:\n",
    "        S+= -i*log(i)\n",
    "    return S\n",
    "distance = distance_calculator(test.coordinate_trek_1, test.coordinate_trek_2)\n",
    "print('Average energy = ', Average_value(test.Energy_trek, test.Energy_trek, test.Temp))\n",
    "print('Average distance = ', Average_value(distance, test.Energy_trek, test.Temp))\n",
    "print('Ensemble entropy = ', Entropy(test.Energy_trek, test.Temp))"
   ]
  },
  {
   "cell_type": "code",
   "execution_count": null,
   "metadata": {},
   "outputs": [],
   "source": [
    "fig, axs = plt.subplots(nrows=2, ncols=1)\n",
    "\n",
    "axs[0].plot(distance, label='distance, T = '+str(test.Temp))\n",
    "axs[0].axhline(y = 1, color = 'r', linestyle = '--') \n",
    "axs[0].axhline(y = sqrt(2), color = 'green', linestyle = '--')\n",
    "axs[0].set_ylim([0, max(distance)+0.5])\n",
    "axs[0].legend()\n",
    "axs[1].plot(test.Energy_trek, label='Energy, T = '+str(test.Temp), color = 'orange')\n",
    "axs[1].legend()\n",
    "\n",
    "plt.show()"
   ]
  }
 ],
 "metadata": {
  "kernelspec": {
   "display_name": "Python 3",
   "language": "python",
   "name": "python3"
  },
  "language_info": {
   "codemirror_mode": {
    "name": "ipython",
    "version": 3
   },
   "file_extension": ".py",
   "mimetype": "text/x-python",
   "name": "python",
   "nbconvert_exporter": "python",
   "pygments_lexer": "ipython3",
   "version": "3.10.5"
  },
  "orig_nbformat": 4
 },
 "nbformat": 4,
 "nbformat_minor": 2
}
